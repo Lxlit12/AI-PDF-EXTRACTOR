{
 "cells": [
  {
   "cell_type": "code",
   "execution_count": null,
   "id": "8870bfe5-d4f5-4eb4-beb2-c1c3bd423302",
   "metadata": {},
   "outputs": [],
   "source": [
    "pip install pymupdf"
   ]
  },
  {
   "cell_type": "code",
   "execution_count": null,
   "id": "76673e3a-be85-4f74-9bec-c068e1c275c8",
   "metadata": {},
   "outputs": [],
   "source": [
    "pip install pytesseract"
   ]
  },
  {
   "cell_type": "code",
   "execution_count": null,
   "id": "e2075ab5-ae63-4615-8312-20da8e142175",
   "metadata": {},
   "outputs": [],
   "source": [
    "pip install pymupdf pytesseract pdf2image pillow\n"
   ]
  },
  {
   "cell_type": "code",
   "execution_count": null,
   "id": "5f0964c4-ec75-420c-ab2d-8ca5b0f4d9c0",
   "metadata": {},
   "outputs": [],
   "source": [
    "!pip install sumy\n"
   ]
  },
  {
   "cell_type": "code",
   "execution_count": 1,
   "id": "437ed39e-87a8-48b7-8094-cce40fb13bb1",
   "metadata": {},
   "outputs": [
    {
     "name": "stdout",
     "output_type": "stream",
     "text": [
      "PyMuPDF 1.25.3: Python bindings for the MuPDF 1.25.4 library (rebased implementation).\n",
      "Python 3.11 running on win32 (64-bit).\n",
      "\n"
     ]
    }
   ],
   "source": [
    "import fitz\n",
    "print(fitz.__doc__)"
   ]
  },
  {
   "cell_type": "code",
   "execution_count": 8,
   "id": "ccd1e22f-74ff-4abf-878b-ecc82bbe6b45",
   "metadata": {},
   "outputs": [],
   "source": [
    "import fitz  # PyMuPDF for PDF text extraction\n",
    "import re\n",
    "import gradio as gr\n",
    "from sumy.parsers.plaintext import PlaintextParser\n",
    "from sumy.nlp.tokenizers import Tokenizer\n",
    "from sumy.summarizers.lsa import LsaSummarizer  # Latent Semantic Analysis Summarizer"
   ]
  },
  {
   "cell_type": "code",
   "execution_count": 12,
   "id": "ce9ee3fc-b9e0-4f7b-9db4-dc8b95833c4c",
   "metadata": {},
   "outputs": [],
   "source": [
    "def extract_important_topics(pdf_path):\n",
    "    \"\"\"Extracts potential topics (headings) from a PDF.\"\"\"\n",
    "    try:\n",
    "        doc = fitz.open(pdf_path)\n",
    "        extracted_text = \"\\n\".join([page.get_text(\"text\") for page in doc])\n",
    "\n",
    "        if not extracted_text.strip():\n",
    "            return \"No text found. The PDF might be scanned.\"\n",
    "        \n",
    "        print(\"Extracted Text:\", extracted_text[:800])  # Debugging output\n",
    "\n",
    "        # Finding potential topics/headings\n",
    "        topics = re.findall(r\"(?m)^\\s*[A-Z][A-Za-z\\s]+(?=:|$)\", extracted_text)\n",
    "\n",
    "        if topics:\n",
    "            return \"\\n\".join(topics[:15])  # Return first 15 topics\n",
    "        else:\n",
    "            return \"No topics found in the PDF.\"\n",
    "\n",
    "    except Exception as e:\n",
    "        return f\"⚠️ Error: {str(e)}\"\n",
    "\n",
    "def process_pdf(pdf_file):\n",
    "    if not pdf_file:\n",
    "        return \" No file uploaded!\"\n",
    "\n",
    "    print(\"Uploaded File Path:\", pdf_file)  # Debugging output\n",
    "    topics = extract_important_topics(pdf_file)  # ✅ Corrected function call\n",
    "    return topics"
   ]
  },
  {
   "cell_type": "code",
   "execution_count": 13,
   "id": "7c2ea958-3b05-4d7c-bdb6-27cdef4e0a88",
   "metadata": {},
   "outputs": [],
   "source": [
    "with gr.Blocks() as app:\n",
    "    gr.Markdown(\"#PDF Topic Extractor\")\n",
    "    pdf_file = gr.File(label=\"Upload PDF\", type=\"filepath\")\n",
    "    output = gr.Textbox(label=\"Extracted Topics\", interactive=False)\n",
    "    submit_btn = gr.Button(\"Extract Topics\")\n",
    "\n",
    "    submit_btn.click(fn=process_pdf, inputs=[pdf_file], outputs=[output])"
   ]
  },
  {
   "cell_type": "code",
   "execution_count": 14,
   "id": "bcef0dce-de7f-4758-91a5-18de0b8eebd6",
   "metadata": {},
   "outputs": [
    {
     "name": "stdout",
     "output_type": "stream",
     "text": [
      "* Running on local URL:  http://127.0.0.1:7862\n",
      "\n",
      "To create a public link, set `share=True` in `launch()`.\n"
     ]
    },
    {
     "data": {
      "text/html": [
       "<div><iframe src=\"http://127.0.0.1:7862/\" width=\"100%\" height=\"500\" allow=\"autoplay; camera; microphone; clipboard-read; clipboard-write;\" frameborder=\"0\" allowfullscreen></iframe></div>"
      ],
      "text/plain": [
       "<IPython.core.display.HTML object>"
      ]
     },
     "metadata": {},
     "output_type": "display_data"
    },
    {
     "data": {
      "text/plain": []
     },
     "execution_count": 14,
     "metadata": {},
     "output_type": "execute_result"
    },
    {
     "name": "stdout",
     "output_type": "stream",
     "text": [
      "Uploaded File Path: C:\\Users\\ramya\\AppData\\Local\\Temp\\gradio\\1a59f6fa8f126518e91adf154d16ad4e37e22bdb71f58b81d00d554290b4e04a\\unit 2 daa 1.pdf\n",
      "Extracted Text: Divide and Conquer\n",
      "🞂Many useful algorithms are recursive in structure: to \n",
      "solve a given problem, they call themselves recursively \n",
      "one or more times.\n",
      "🞂These algorithms typically follow a divide-and-conquer \n",
      "approach:\n",
      "🞂The divide-and-conquer approach involves three steps \n",
      "at each level of the recursion:\n",
      "1.\n",
      "Divide: Break the problem into several sub problems that \n",
      "are similar to the original problem but smaller in size. \n",
      "2.\n",
      "Conquer: Solve the sub problems recursively. If the sub \n",
      "problem sizes are small enough, just solve the sub \n",
      "problems in a straightforward manner.\n",
      "3.\n",
      "Combine: Combine these solutions to create a solution to \n",
      "the original problem.\n",
      "\n",
      "Maximum Subarray Problem\n",
      "\n",
      "\n",
      "\n",
      "\n",
      "\n",
      "\n",
      "\n",
      "\n",
      "\n",
      "\n",
      "\n",
      "\n",
      "\n",
      "\n",
      "\n",
      "Binary Search\n",
      "Binary Search is a searching algorithm for finding an element's \n",
      "position in a sorted a\n",
      "Uploaded File Path: C:\\Users\\ramya\\AppData\\Local\\Temp\\gradio\\5f47bf4fbf7051689083fd1e284373dbb35aebc23993945d03cc43df1f2fd8a4\\AI ASSIGNMENT.pdf\n",
      "Uploaded File Path: C:\\Users\\ramya\\AppData\\Local\\Temp\\gradio\\a85e160a95a0bc800936652697439a72f79e7a695949763b6507c327b6a17305\\final unit II.ppt.pdf\n",
      "Extracted Text: 1\n",
      "1.\n",
      "Class fundamentals\n",
      "2.\n",
      " Declaring Objects\n",
      "3.\n",
      " Assigning Object References\n",
      "4.\n",
      "Introducing Methods\n",
      "5.\n",
      "Constructors\n",
      "6.\n",
      "this keyword\n",
      "7.\n",
      "Garbage Collection\n",
      "8.\n",
      "finalize ( ) Method\n",
      "9.\n",
      "Overloading Methods\n",
      "10. Object as parameters\n",
      "11. Returning Objects\n",
      "12. Access Control\n",
      "13. static and final keyword\n",
      "14. Nested classes and Inner Class\n",
      "15. Classes with Command Line\n",
      "   arguments\n",
      "I I– UNIT \n",
      "\n",
      "2\n",
      "CLASS FUNDAMENTALS\n",
      "\n",
      "CLASS\n",
      "• A Class represents a template for several objects \n",
      "that have common properties\n",
      "• A class defines all the properties common to the \n",
      "object – attributes and methods.\n",
      "• A Class is a set of attributes and operations that are \n",
      "performed on the attributes.\n",
      "• A Class is the blueprint from which individual \n",
      "objects are created.\n",
      "• An object is an instance of a class\n",
      "3\n",
      "\n",
      "4\n",
      "\n",
      "CLASS Example\n",
      "clas\n"
     ]
    }
   ],
   "source": [
    "app.launch()"
   ]
  },
  {
   "cell_type": "code",
   "execution_count": null,
   "id": "c80fbe17-8886-4574-8cb2-d2edcf68eac7",
   "metadata": {},
   "outputs": [],
   "source": []
  }
 ],
 "metadata": {
  "kernelspec": {
   "display_name": "Python 3 (ipykernel)",
   "language": "python",
   "name": "python3"
  },
  "language_info": {
   "codemirror_mode": {
    "name": "ipython",
    "version": 3
   },
   "file_extension": ".py",
   "mimetype": "text/x-python",
   "name": "python",
   "nbconvert_exporter": "python",
   "pygments_lexer": "ipython3",
   "version": "3.11.11"
  }
 },
 "nbformat": 4,
 "nbformat_minor": 5
}
